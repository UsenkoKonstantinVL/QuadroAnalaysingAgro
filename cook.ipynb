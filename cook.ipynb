{
 "metadata": {
  "language_info": {
   "codemirror_mode": {
    "name": "ipython",
    "version": 3
   },
   "file_extension": ".py",
   "mimetype": "text/x-python",
   "name": "python",
   "nbconvert_exporter": "python",
   "pygments_lexer": "ipython3",
   "version": "3.6.12-final"
  },
  "orig_nbformat": 2,
  "kernelspec": {
   "name": "python361064bit4245498dcbb84f12a0801c0b2d67e844",
   "display_name": "Python 3.6.10 64-bit"
  }
 },
 "nbformat": 4,
 "nbformat_minor": 2,
 "cells": [
  {
   "cell_type": "code",
   "execution_count": 253,
   "metadata": {},
   "outputs": [],
   "source": [
    "import pandas\n",
    "import numpy as np\n",
    "\n",
    "from collections import defaultdict\n",
    "from itertools import chain\n",
    "from time import sleep"
   ]
  },
  {
   "source": [
    "Читаем данные из преобразованного в csv файла с датасетом"
   ],
   "cell_type": "markdown",
   "metadata": {}
  },
  {
   "cell_type": "code",
   "execution_count": 62,
   "metadata": {},
   "outputs": [
    {
     "output_type": "stream",
     "name": "stdout",
     "text": [
      "<class 'pandas.core.frame.DataFrame'>\nRangeIndex: 59 entries, 0 to 58\nData columns (total 15 columns):\n #   Column                                Non-Null Count  Dtype  \n---  ------                                --------------  -----  \n 0   № поля                                59 non-null     int64  \n 1   Площать, гектары                      59 non-null     float64\n 2   Крутизна склона, градусы              59 non-null     object \n 3   Уровень плодородия почв               59 non-null     object \n 4   Наличие многолетних сорняков в 2020г  59 non-null     object \n 5   Статус собственности на 2020 г        59 non-null     object \n 6   Расстоние до асфальта, км             59 non-null     float64\n 7   Массив полей                          59 non-null     object \n 8   2018 Культура                         59 non-null     object \n 9   2018 Гербицид                         4 non-null      object \n 10  2019 Культура                         59 non-null     object \n 11  2019 Гербицид                         2 non-null      object \n 12  2020 Культура                         59 non-null     object \n 13  2020 Гербицид                         14 non-null     object \n 14  Культура 2021                         59 non-null     object \ndtypes: float64(2), int64(1), object(12)\nmemory usage: 7.0+ KB\n"
     ]
    }
   ],
   "source": [
    "excel_data_df = pandas.read_csv('test.csv', header=0, skip_blank_lines=True)  # /home/devuser/ROSProj/sandbox/src/tests/hacathon/\n",
    "excel_data_df.info()"
   ]
  },
  {
   "cell_type": "code",
   "execution_count": 72,
   "metadata": {},
   "outputs": [
    {
     "output_type": "execute_result",
     "data": {
      "text/plain": [
       "   № поля  Площать, гектары  Крутизна склона, градусы Уровень плодородия почв  \\\n",
       "0       1             125.4                       1.0                 Средний   \n",
       "1       2             154.2                       7.0                 Средний   \n",
       "2       3             205.6                       0.0                 Средний   \n",
       "3       4              23.5                       6.0                 Высокий   \n",
       "4       5             245.4                       1.0                 Средний   \n",
       "\n",
       "  Наличие многолетних сорняков в 2020г Статус собственности на 2020 г  \\\n",
       "0                                    -                  Истекает срок   \n",
       "1                                    +                  Собственность   \n",
       "2                                    -                  Собственность   \n",
       "3                                    -                  Собственность   \n",
       "4                                    -                  Истекает срок   \n",
       "\n",
       "   Расстоние до асфальта, км  Массив полей 2018 Культура  2018 Гербицид  \\\n",
       "0                        0.0             1             1              0   \n",
       "1                        0.5             1             2              0   \n",
       "2                        0.0             1             1              0   \n",
       "3                        0.7             1             2              0   \n",
       "4                        0.0             1             1              0   \n",
       "\n",
       "  2019 Культура  2019 Гербицид 2020 Культура  2020 Гербицид Культура 2021  \n",
       "0             2              0             4              0             ?  \n",
       "1             5              0             4              0             ?  \n",
       "2             2              0             4              0             ?  \n",
       "3             5              0             4              0             ?  \n",
       "4             2              0             4              0             ?  "
      ],
      "text/html": "<div>\n<style scoped>\n    .dataframe tbody tr th:only-of-type {\n        vertical-align: middle;\n    }\n\n    .dataframe tbody tr th {\n        vertical-align: top;\n    }\n\n    .dataframe thead th {\n        text-align: right;\n    }\n</style>\n<table border=\"1\" class=\"dataframe\">\n  <thead>\n    <tr style=\"text-align: right;\">\n      <th></th>\n      <th>№ поля</th>\n      <th>Площать, гектары</th>\n      <th>Крутизна склона, градусы</th>\n      <th>Уровень плодородия почв</th>\n      <th>Наличие многолетних сорняков в 2020г</th>\n      <th>Статус собственности на 2020 г</th>\n      <th>Расстоние до асфальта, км</th>\n      <th>Массив полей</th>\n      <th>2018 Культура</th>\n      <th>2018 Гербицид</th>\n      <th>2019 Культура</th>\n      <th>2019 Гербицид</th>\n      <th>2020 Культура</th>\n      <th>2020 Гербицид</th>\n      <th>Культура 2021</th>\n    </tr>\n  </thead>\n  <tbody>\n    <tr>\n      <th>0</th>\n      <td>1</td>\n      <td>125.4</td>\n      <td>1.0</td>\n      <td>Средний</td>\n      <td>-</td>\n      <td>Истекает срок</td>\n      <td>0.0</td>\n      <td>1</td>\n      <td>1</td>\n      <td>0</td>\n      <td>2</td>\n      <td>0</td>\n      <td>4</td>\n      <td>0</td>\n      <td>?</td>\n    </tr>\n    <tr>\n      <th>1</th>\n      <td>2</td>\n      <td>154.2</td>\n      <td>7.0</td>\n      <td>Средний</td>\n      <td>+</td>\n      <td>Собственность</td>\n      <td>0.5</td>\n      <td>1</td>\n      <td>2</td>\n      <td>0</td>\n      <td>5</td>\n      <td>0</td>\n      <td>4</td>\n      <td>0</td>\n      <td>?</td>\n    </tr>\n    <tr>\n      <th>2</th>\n      <td>3</td>\n      <td>205.6</td>\n      <td>0.0</td>\n      <td>Средний</td>\n      <td>-</td>\n      <td>Собственность</td>\n      <td>0.0</td>\n      <td>1</td>\n      <td>1</td>\n      <td>0</td>\n      <td>2</td>\n      <td>0</td>\n      <td>4</td>\n      <td>0</td>\n      <td>?</td>\n    </tr>\n    <tr>\n      <th>3</th>\n      <td>4</td>\n      <td>23.5</td>\n      <td>6.0</td>\n      <td>Высокий</td>\n      <td>-</td>\n      <td>Собственность</td>\n      <td>0.7</td>\n      <td>1</td>\n      <td>2</td>\n      <td>0</td>\n      <td>5</td>\n      <td>0</td>\n      <td>4</td>\n      <td>0</td>\n      <td>?</td>\n    </tr>\n    <tr>\n      <th>4</th>\n      <td>5</td>\n      <td>245.4</td>\n      <td>1.0</td>\n      <td>Средний</td>\n      <td>-</td>\n      <td>Истекает срок</td>\n      <td>0.0</td>\n      <td>1</td>\n      <td>1</td>\n      <td>0</td>\n      <td>2</td>\n      <td>0</td>\n      <td>4</td>\n      <td>0</td>\n      <td>?</td>\n    </tr>\n  </tbody>\n</table>\n</div>"
     },
     "metadata": {},
     "execution_count": 72
    }
   ],
   "source": [
    "excel_data_df.head()"
   ]
  },
  {
   "cell_type": "code",
   "execution_count": 64,
   "metadata": {},
   "outputs": [
    {
     "output_type": "execute_result",
     "data": {
      "text/plain": [
       "array([1, 2, 3, 4])"
      ]
     },
     "metadata": {},
     "execution_count": 64
    }
   ],
   "source": [
    "excel_data_df['Массив полей'].unique()"
   ]
  },
  {
   "cell_type": "code",
   "execution_count": 74,
   "metadata": {},
   "outputs": [
    {
     "output_type": "execute_result",
     "data": {
      "text/plain": [
       "array(['Средний', 'Высокий', 'Низкий'], dtype=object)"
      ]
     },
     "metadata": {},
     "execution_count": 74
    }
   ],
   "source": [
    "excel_data_df['Уровень плодородия почв'].unique()"
   ]
  },
  {
   "source": [
    "Создаем константы для дальнейшей работы"
   ],
   "cell_type": "markdown",
   "metadata": {}
  },
  {
   "cell_type": "code",
   "execution_count": 71,
   "metadata": {},
   "outputs": [],
   "source": [
    "plant_species = {\n",
    "    'Свекла сах': \"1\",\n",
    "    'Ячмень пив': \"2\",\n",
    "    'Соя': \"3\",\n",
    "    'Пшен оз': \"4\",\n",
    "    'Пар': \"5\"\n",
    "}\n",
    "\n",
    "# Соответствие класса названию\n",
    "class_to_spec = {val: key for key, val in plant_species.items()}\n",
    "\n",
    "prices = {\n",
    "    'Свекла сах': 3500.0,\n",
    "    'Ячмень пив': 12000.0,\n",
    "    'Соя': 30000.0,\n",
    "    'Пшен оз': 16000.0,\n",
    "    'Пар': 0\n",
    "}\n",
    "\n",
    "yield_coef = [\n",
    "    0.8, 1.0, 1.2\n",
    "]\n",
    "\n",
    "yield_prev_spec = {\n",
    "    \"Пар\": {\"Пар\": 1, \"Соя\": 1, \"Пшен оз\": 1, \"Ячмень пив\": 1, 'Свекла сах': 1},\n",
    "    \"Соя\": {\"Пар\": 4, \"Соя\": 2, \"Пшен оз\": 3, \"Ячмень пив\": 4, 'Свекла сах': 2},\n",
    "    \"Пшен оз\": {\"Пар\": 6, \"Соя\": 6, \"Пшен оз\": 3, \"Ячмень пив\": 4, 'Свекла сах': 5},\n",
    "    \"Ячмень пив\": {\"Пар\": 4, \"Соя\": 5, \"Пшен оз\": 4, \"Ячмень пив\": 3, 'Свекла сах': 5},\n",
    "    \"Свекла сах\": {\"Пар\": 40, \"Соя\": 50, \"Пшен оз\": 60, \"Ячмень пив\": 60, 'Свекла сах': 30},\n",
    "}\n",
    "\n",
    "areas = {\n",
    "    'Центр': 1, 'Восток': 2, 'Слободка': 3, 'Дальний': 4\n",
    "}\n",
    "class_to_areas = {val: key for key, val in areas.items()}"
   ]
  },
  {
   "source": [
    "Немножко преобразуем таблицу для упрощенной работы с ней"
   ],
   "cell_type": "markdown",
   "metadata": {}
  },
  {
   "cell_type": "code",
   "execution_count": 60,
   "metadata": {},
   "outputs": [],
   "source": [
    "def gerbicid_conver(table, name):\n",
    "    table[name] = table[name].replace(np.nan, 0)\n",
    "    table[name] = table[name].replace(\"Серп\", 1)\n",
    "\n",
    "def spec_to_class(table, name):\n",
    "    global plant_species\n",
    "    table[name] = table[name].apply(lambda x: plant_species[x])\n",
    "\n",
    "def area_to_class(table, name):\n",
    "    global plant_species\n",
    "    table[name] = table[name].apply(lambda x: areas[x])\n"
   ]
  },
  {
   "cell_type": "code",
   "execution_count": 63,
   "metadata": {},
   "outputs": [],
   "source": [
    "gerbicid_conver(excel_data_df, \"2018 Гербицид\")\n",
    "gerbicid_conver(excel_data_df, \"2019 Гербицид\")\n",
    "gerbicid_conver(excel_data_df, \"2020 Гербицид\")\n",
    "\n",
    "excel_data_df['Крутизна склона, градусы'] = excel_data_df['Крутизна склона, градусы'].apply(lambda x: x.replace('$', '').replace(',', '.')).astype('float')\n",
    "\n",
    "spec_to_class(excel_data_df, '2018 Культура')\n",
    "spec_to_class(excel_data_df, '2019 Культура')\n",
    "spec_to_class(excel_data_df, '2020 Культура')\n",
    "\n",
    "area_to_class(excel_data_df, 'Массив полей')\n",
    "\n",
    "\n",
    "\n"
   ]
  },
  {
   "source": [
    "Посчитаем средние показатели посева за три года"
   ],
   "cell_type": "markdown",
   "metadata": {}
  },
  {
   "cell_type": "code",
   "execution_count": 197,
   "metadata": {},
   "outputs": [
    {
     "output_type": "stream",
     "name": "stdout",
     "text": [
      "(defaultdict(<class 'float'>, {'1': 813.4, '2': 1694.8999999999999, '3': 1346.2666666666667, '4': 1590.8333333333333, '5': 1395.0999999999997}), defaultdict(<class 'float'>, {'1': 885.8999999999999, '2': 1205.8000000000002, '3': 1068.3999999999999, '4': 1924.6000000000001, '5': 1755.7999999999997}), defaultdict(<class 'float'>, {'2': 1954.2999999999997, '5': 1205.8000000000002, '1': 710.0, '3': 1214.6, '4': 1755.7999999999997}), defaultdict(<class 'float'>, {'4': 1092.1, '5': 1223.6999999999998, '2': 1924.6000000000001, '3': 1755.7999999999997, '1': 844.3}))\n"
     ]
    }
   ],
   "source": [
    "def calc_means(table):\n",
    "    vol_2018 = defaultdict(float)\n",
    "    vol_2019 = defaultdict(float)\n",
    "    vol_2020 = defaultdict(float)\n",
    "\n",
    "    for index, row in table.iterrows():\n",
    "        vol_2018[row['2018 Культура']] += row['Площать, гектары']\n",
    "        vol_2019[row['2019 Культура']] += row['Площать, гектары']\n",
    "        vol_2020[row['2020 Культура']] += row['Площать, гектары']\n",
    "\n",
    "    mean_vol = defaultdict(float)\n",
    "    for spec in vol_2018.keys():\n",
    "        for m_d in [vol_2018, vol_2019, vol_2020]:\n",
    "            mean_vol[spec] += m_d[spec]\n",
    "\n",
    "    for spec in mean_vol.keys():\n",
    "        mean_vol[spec] = mean_vol[spec] / 3.0\n",
    "    return mean_vol, vol_2018, vol_2019, vol_2020\n",
    "\n",
    "mean_vol = calc_means(excel_data_df)\n",
    "mean_vol_3_years = mean_vol[0]\n",
    "print(mean_vol)"
   ]
  },
  {
   "source": [
    "Основные функции генетического алгоритма"
   ],
   "cell_type": "markdown",
   "metadata": {}
  },
  {
   "cell_type": "code",
   "execution_count": 85,
   "metadata": {},
   "outputs": [],
   "source": [
    "def create_gen(chromosom_dictionary, gen_len):\n",
    "    return ''.join(np.random.choice(chromosom_dictionary, gen_len))"
   ]
  },
  {
   "cell_type": "code",
   "execution_count": 178,
   "metadata": {},
   "outputs": [],
   "source": [
    "def mutation(parent, chromosom_dictionary):\n",
    "    child = parent[:]\n",
    "    mutation_p = 1.0 / len(child)\n",
    "    for i in range(len(child)):\n",
    "        if np.random.random() < mutation_p:\n",
    "            new_g = np.random.choice(chromosom_dictionary, 1)\n",
    "            new_g = list(new_g)[0]\n",
    "            list1 = list(child)\n",
    "            list1[i] = new_g\n",
    "            child = ''.join(list1)\n",
    "    return child\n",
    "\n",
    "def crossover(parent1, parent2):\n",
    "    cross_point = np.random.choice(range(len(parent1[1:-1])), 1)[0]\n",
    "    child = parent1[:cross_point]\n",
    "    child += parent2[cross_point: ]\n",
    "    return child"
   ]
  },
  {
   "source": [
    "Создаем отдельный класс-модель для упрощенной работы с данными"
   ],
   "cell_type": "markdown",
   "metadata": {}
  },
  {
   "cell_type": "code",
   "execution_count": 246,
   "metadata": {},
   "outputs": [],
   "source": [
    "class Field(object):\n",
    "    def __init__(self, row, yield_prev_spec, class_to_spec):\n",
    "        self.yield_prev_spec = yield_prev_spec\n",
    "        self.class_to_spec = class_to_spec\n",
    "\n",
    "        self.erosion_coef = 1.0 if row['Крутизна склона, градусы'] < 3 else 0.8\n",
    "\n",
    "        if row['2018 Гербицид'] == 1:\n",
    "            self.herbicid_coef = 1.0\n",
    "        elif row['2019 Гербицид'] == 1:\n",
    "            self.herbicid_coef = 0.2\n",
    "        elif row['2020 Гербицид'] == 1:\n",
    "            self.herbicid_coef = 0.5\n",
    "        else:\n",
    "            self.herbicid_coef = 1.0\n",
    "\n",
    "        self.cluster = row['Массив полей']\n",
    "\n",
    "        self.harvesting_coef = 1.0 if row['Расстоние до асфальта, км'] <= 1.0 else 0.8\n",
    "        self.rent_coef = 0.7 if row['Статус собственности на 2020 г'] == 'Истекает срок' else 1.0\n",
    "        self._weeds_coef =  0.7 if row['Наличие многолетних сорняков в 2020г'] == '+' else 1.0\n",
    "\n",
    "        self.last_spiec = self.class_to_spec[row['2020 Культура']]\n",
    "        self.field_volume = row['Площать, гектары']\n",
    "\n",
    "        self.yield_level = {'Средний': 1.0, 'Высокий': 1.2, 'Низкий': 0.8}\n",
    "        self._yield_level_coef = self.yield_level[row['Уровень плодородия почв']]\n",
    "\n",
    "    def erosion_lose(self, g):\n",
    "        \"\"\"\n",
    "        Эррозия\n",
    "        \"\"\"\n",
    "        return self.erosion_coef if g == '1' else 1\n",
    "\n",
    "    def gerbicid_lose(self, spiec):\n",
    "        \"\"\"\n",
    "        Гербициды\n",
    "        \"\"\"\n",
    "        return self.herbicid_coef if spiec in ['1', '3'] else 1.0\n",
    "\n",
    "    def harvesting_lose(self, spiec):\n",
    "        \"\"\"\n",
    "        Коэфициент дальности от дороги\n",
    "        \"\"\"\n",
    "        return self.harvesting_coef if spiec == '3' else 1.0\n",
    "\n",
    "    def rent_risc(self):\n",
    "        \"\"\"\n",
    "        Потери, если истекает аренда\n",
    "        \"\"\"\n",
    "        return self.rent_coef\n",
    "\n",
    "    def weeds_coef(self):\n",
    "        \"\"\"\n",
    "        Потери при сорняках\n",
    "        \"\"\"\n",
    "        return self._weeds_coef\n",
    "\n",
    "    def yield_level_coef(self, spiec):\n",
    "        \"\"\"\n",
    "        Уровень плодородия почв\n",
    "        \"\"\"\n",
    "        return self._yield_level_coef\n",
    "\n",
    "    def get_volume_coef(self, spiec):\n",
    "        \"\"\"\n",
    "        Урожайность культур сильно зависит от культурного растения, возделываемого в предыдущем году (таблица зависимости прилагается)\n",
    "        \"\"\"\n",
    "        cs = self.class_to_spec[spiec]\n",
    "\n",
    "        return self.yield_prev_spec[cs][self.last_spiec]\n",
    "\n",
    "    def field_volume_coef(self):\n",
    "        return self.field_volume\n"
   ]
  },
  {
   "source": [
    "Функции оценки каждого экземпляра"
   ],
   "cell_type": "markdown",
   "metadata": {}
  },
  {
   "cell_type": "code",
   "execution_count": 296,
   "metadata": {},
   "outputs": [],
   "source": [
    "def es(val1, val2):\n",
    "    return np.exp(-np.power(val1-val2, 2)/(val2*val2))\n",
    "\n",
    "\n",
    "def estimate(gen, fields, class_to_spec, prices, means):\n",
    "    val = 0\n",
    "    spiec_vol = defaultdict(int)\n",
    "    clusters_sp = defaultdict(set)\n",
    "    for i in range(len(gen)):\n",
    "        g = gen[i]\n",
    "        field = fields[i]\n",
    "\n",
    "        spiec_vol[g] += field.field_volume_coef()\n",
    "        clusters_sp[field.cluster].add(g)\n",
    "\n",
    "        spiec = class_to_spec[g]\n",
    "        price = prices[spiec]\n",
    "        volume = field.field_volume_coef() * field.get_volume_coef(g)\n",
    "        yield_c = field.yield_level_coef(g)\n",
    "        weeds_coef = field.weeds_coef()\n",
    "        rent_risc = field.rent_risc()\n",
    "        harvesting_lose = field.harvesting_lose(g)\n",
    "        gerbicid_lose = field.gerbicid_lose(g)\n",
    "        erosion_lose = field.erosion_lose(g)\n",
    "        field_val = yield_c * price * volume * weeds_coef * rent_risc * harvesting_lose * gerbicid_lose * erosion_lose\n",
    "        val += field_val\n",
    "\n",
    "        if i != 0:\n",
    "            if g != gen[i-1] and fields[i-1].cluster == field.cluster:\n",
    "                val *= 0.9\n",
    "\n",
    "    c = 1\n",
    "    for key, val in means.items():\n",
    "        if spiec_vol[key] != 0:\n",
    "            c = c * es(spiec_vol[key], val)\n",
    "        else:\n",
    "            c = c * 0.0000001\n",
    "\n",
    "    for key, value in clusters_sp.items():\n",
    "        if len(value) > 3:\n",
    "            val = val * 0.5\n",
    "            break\n",
    "\n",
    "    return val * c\n",
    "\n",
    "\n",
    "def calc_overall_income(gen, fields, class_to_spec, prices, means):\n",
    "    val = 0\n",
    "    spiec_vol = defaultdict(int)\n",
    "    clusters_sp = defaultdict(set)\n",
    "    for i in range(len(gen)):\n",
    "        g = gen[i]\n",
    "        field = fields[i]\n",
    "\n",
    "        spiec_vol[g] += field.field_volume_coef()\n",
    "        clusters_sp[field.cluster].add(g)\n",
    "\n",
    "        spiec = class_to_spec[g]\n",
    "        price = prices[spiec]\n",
    "        volume = field.field_volume_coef() * field.get_volume_coef(g)\n",
    "        yield_c = field.yield_level_coef(g)\n",
    "        weeds_coef = field.weeds_coef()\n",
    "        rent_risc = field.rent_risc()\n",
    "        harvesting_lose = field.harvesting_lose(g)\n",
    "        gerbicid_lose = field.gerbicid_lose(g)\n",
    "        erosion_lose = field.erosion_lose(g)\n",
    "        field_val = yield_c * price * volume * weeds_coef * rent_risc * harvesting_lose * gerbicid_lose * erosion_lose\n",
    "        val += field_val\n",
    "\n",
    "    return val\n",
    "\n",
    "\n",
    "def estimate_with_nearest(gen, fields, class_to_spec, prices, means):\n",
    "    val = 0\n",
    "    spiec_vol = defaultdict(int)\n",
    "    clusters_sp = defaultdict(set)\n",
    "    for i in range(len(gen)):\n",
    "        g = gen[i]\n",
    "        field = fields[i]\n",
    "\n",
    "        spiec_vol[g] += field.field_volume_coef()\n",
    "        clusters_sp[field.cluster].add(g)\n",
    "\n",
    "        spiec = class_to_spec[g]\n",
    "        price = prices[spiec]\n",
    "        volume = field.field_volume_coef() * field.get_volume_coef(g)\n",
    "        yield_c = field.yield_level_coef(g)\n",
    "        weeds_coef = field.weeds_coef()\n",
    "        rent_risc = field.rent_risc()\n",
    "        harvesting_lose = field.harvesting_lose(g)\n",
    "        gerbicid_lose = field.gerbicid_lose(g)\n",
    "        erosion_lose = field.erosion_lose(g)\n",
    "        field_val = yield_c * price * volume * weeds_coef * rent_risc * harvesting_lose * gerbicid_lose * erosion_lose\n",
    "        val += field_val\n",
    "\n",
    "        if i != 0:\n",
    "            if g != gen[i-1] and fields[i-1].cluster == field.cluster:\n",
    "                val *= 0.8\n",
    "    c = 1\n",
    "    for key, val in means.items():\n",
    "        if spiec_vol[key] != 0:\n",
    "            c = c * es(spiec_vol[key], val)\n",
    "        else:\n",
    "            c = c * 0.0000001\n",
    "\n",
    "    for key, value in clusters_sp.items():\n",
    "        if len(value) > 3:\n",
    "            val = val * 0.5\n",
    "            break\n",
    "\n",
    "    return val * c\n",
    "\n",
    "\n",
    "def estimate_nearest(gen, fields):\n",
    "    val = 1.0\n",
    "    clusters_sp = defaultdict(set)\n",
    "    for i in range(len(gen)):\n",
    "        g = gen[i]\n",
    "        field = fields[i]\n",
    "        clusters_sp[field.cluster].add(g)\n",
    "\n",
    "    for i in range(len(gen)):\n",
    "        if i != 0:\n",
    "            if g != gen[i-1] and fields[i-1].cluster == field.cluster:\n",
    "                val *= 0.8\n",
    "\n",
    "    \n",
    "    for key, value in clusters_sp.items():\n",
    "        if len(value) > 3:\n",
    "            val = val * 0.5\n",
    "            break\n",
    "    return val\n",
    "\n",
    "\n"
   ]
  },
  {
   "cell_type": "code",
   "execution_count": 297,
   "metadata": {},
   "outputs": [
    {
     "output_type": "execute_result",
     "data": {
      "text/plain": [
       "59"
      ]
     },
     "metadata": {},
     "execution_count": 297
    }
   ],
   "source": [
    "fields_count = excel_data_df.shape[0]\n",
    "fields_count"
   ]
  },
  {
   "cell_type": "code",
   "execution_count": 298,
   "metadata": {},
   "outputs": [
    {
     "output_type": "stream",
     "name": "stdout",
     "text": [
      "59\n"
     ]
    }
   ],
   "source": [
    "fields = []\n",
    "for index, row in excel_data_df.iterrows():\n",
    "    f = Field(row, yield_prev_spec, class_to_spec)\n",
    "    fields.append(f)\n",
    "\n",
    "print(len(fields))"
   ]
  },
  {
   "cell_type": "code",
   "execution_count": 299,
   "metadata": {},
   "outputs": [
    {
     "output_type": "stream",
     "name": "stdout",
     "text": [
      "54331214521213513331344514413314341344415512144133434414441\n37.1824358422264\n"
     ]
    }
   ],
   "source": [
    "g = create_gen(list(plant_species.values()), fields_count)\n",
    "print(g)\n",
    "l = estimate(g, fields, class_to_spec, prices, mean_vol_3_years)\n",
    "print(l)"
   ]
  },
  {
   "source": [
    "Генетический алгоритм"
   ],
   "cell_type": "markdown",
   "metadata": {}
  },
  {
   "cell_type": "code",
   "execution_count": 300,
   "metadata": {},
   "outputs": [],
   "source": [
    "best = (-1, '')\n",
    "best_100 = list()"
   ]
  },
  {
   "cell_type": "code",
   "execution_count": 318,
   "metadata": {},
   "outputs": [
    {
     "output_type": "stream",
     "name": "stdout",
     "text": [
      "(693.4807624215109, '34223531142131442115445532521243345324524525243425555231412')\n(693.4807624215109, '34223531142131442115445532521243345324524525243425555231412') (623.7897447912704, '54423521434223212522251555354233442144215452241352542221341')\n"
     ]
    }
   ],
   "source": [
    "iterations = 200\n",
    "generation_len = 1000\n",
    "chromosom_dictionary = list(plant_species.values())\n",
    "generation = [(-1, create_gen(chromosom_dictionary, fields_count)) for _ in range(generation_len)]\n",
    "\n",
    "for _ in range(iterations):\n",
    "    new_generation = []\n",
    "    for g in generation:\n",
    "        val = g[0]\n",
    "        gen = g[1]\n",
    "        if val == -1:\n",
    "            val = estimate(gen, fields, class_to_spec, prices, mean_vol_3_years)\n",
    "        new_generation.append((val, gen))\n",
    "    new_generation = sorted(new_generation, reverse=True)\n",
    "\n",
    "    if best[0] < new_generation[0][0]:\n",
    "        best = new_generation[0]\n",
    "\n",
    "    \n",
    "    best_100.extend(new_generation)\n",
    "    best_100 = list(set(best_100))\n",
    "    best_100 = sorted(best_100, reverse=True)\n",
    "    best_100 = best_100[: min(100, len(best_100))]\n",
    "    \n",
    "    val_sum = sum([p[0] for p in new_generation])\n",
    "    p = [p[0] / val_sum for p in new_generation]\n",
    "\n",
    "    generation = []\n",
    "\n",
    "    for _ in range(generation_len):\n",
    "        if np.random.random() < 0.2:\n",
    "            i = np.random.choice(range(generation_len), 1, p)[0]\n",
    "            new_gen = mutation(new_generation[i][1], chromosom_dictionary)\n",
    "            v = -1\n",
    "        elif np.random.random() < 0.2:\n",
    "            i1 = np.random.choice(range(generation_len), 1, p)[0]\n",
    "            i2 = np.random.choice(range(generation_len), 1, p)[0]\n",
    "            new_gen = crossover(new_generation[i1][1], new_generation[i2][1])\n",
    "            v = -1\n",
    "        else:         \n",
    "            i = np.random.choice(range(generation_len), 1, p)[0]   \n",
    "            new_gen = new_generation[i][1]\n",
    "            v = new_generation[i][0]\n",
    "        generation.append((val, new_gen))\n",
    "    sleep(0.001)\n",
    "\n",
    "\n",
    "\n",
    "print(best)\n",
    "print(best_100[0], best_100[-1])\n"
   ]
  },
  {
   "cell_type": "code",
   "execution_count": 319,
   "metadata": {},
   "outputs": [
    {
     "output_type": "stream",
     "name": "stdout",
     "text": [
      "Соя\nПшен оз\nЯчмень пив\nЯчмень пив\nСоя\nПар\nСоя\nСвекла сах\nСвекла сах\nПшен оз\nЯчмень пив\nСвекла сах\nСоя\nСвекла сах\nПшен оз\nПшен оз\nЯчмень пив\nСвекла сах\nСвекла сах\nПар\nПшен оз\nПшен оз\nПар\nПар\nСоя\nЯчмень пив\nПар\nЯчмень пив\nСвекла сах\nЯчмень пив\nПшен оз\nСоя\nСоя\nПшен оз\nПар\nСоя\nЯчмень пив\nПшен оз\nПар\nЯчмень пив\nПшен оз\nПар\nЯчмень пив\nПар\nЯчмень пив\nПшен оз\nСоя\nПшен оз\nЯчмень пив\nПар\nПар\nПар\nПар\nЯчмень пив\nСоя\nСвекла сах\nПшен оз\nСвекла сах\nЯчмень пив\n436260200.0\n"
     ]
    }
   ],
   "source": [
    "def print_col(gen, class_to_spec):\n",
    "    for g in gen:\n",
    "        print(class_to_spec[g])\n",
    "\n",
    "print_col(best[1], class_to_spec)\n",
    "print(calc_overall_income(best[1], fields, class_to_spec, prices, mean_vol_3_years))"
   ]
  },
  {
   "cell_type": "code",
   "execution_count": 320,
   "metadata": {},
   "outputs": [
    {
     "output_type": "stream",
     "name": "stdout",
     "text": [
      "(693.4807624215109, '34223531142131442115445532521243345324524525243425555231412')\n(483354992.0, '33412133443442545351225425454553141435522153442543343213251') (0.08388608000000004, '14235122255124143415212222134355531331542353232154422524444') (31927866.815938577, '14235122255124143415212222134355531331542353232154422524444')\n"
     ]
    }
   ],
   "source": [
    "most_pricest = []\n",
    "for t in best_100:\n",
    "    q = t[1]\n",
    "    v = calc_overall_income(q, fields, class_to_spec, prices, mean_vol_3_years)\n",
    "    most_pricest.append((v, q))\n",
    "\n",
    "most_pricest = sorted(most_pricest, reverse=True)\n",
    "\n",
    "most_shortest = []\n",
    "for t in best_100:\n",
    "    q = t[1]\n",
    "    v = estimate_nearest(q, fields)\n",
    "    most_shortest.append((v, q))\n",
    "\n",
    "most_shortest = sorted(most_shortest, reverse=True)\n",
    "\n",
    "most_optimal = []\n",
    "for t in best_100:\n",
    "    q = t[1]\n",
    "    v1 = estimate_nearest(q, fields)\n",
    "    v2 = calc_overall_income(q, fields, class_to_spec, prices, mean_vol_3_years)\n",
    "    most_optimal.append((v1 * v2, q))\n",
    "\n",
    "most_optimal = sorted(most_optimal, reverse=True)\n",
    "\n",
    "print(best)\n",
    "print(most_pricest[0], most_shortest[0], most_optimal[0])\n"
   ]
  },
  {
   "source": [
    "Сохранение в Exel, листы Результаты и Прибыль"
   ],
   "cell_type": "markdown",
   "metadata": {}
  },
  {
   "cell_type": "code",
   "execution_count": 322,
   "metadata": {},
   "outputs": [],
   "source": [
    "def convert_to_names(gen, class_to_spec):\n",
    "    converted = []\n",
    "    for g in gen:\n",
    "        converted.append(class_to_spec[g])\n",
    "    return converted \n",
    "\n",
    "most_pricest_converted = convert_to_names(most_pricest[0][1], class_to_spec)\n",
    "most_shortest_converted = convert_to_names(most_shortest[0][1], class_to_spec)\n",
    "most_optimal_converted = convert_to_names(best[1], class_to_spec)\n",
    "\n",
    "df1 = pandas.DataFrame([p for p in zip(range(1, len(most_optimal_converted) + 1), most_optimal_converted, most_pricest_converted, most_shortest_converted)],\n",
    "                       columns=['№ поля', 'Самый оптимальный', 'Который принесет самую большую прибыль', 'Оптимальный по кластеризации'])\n",
    "\n",
    "most_pricest_profit = calc_overall_income(most_pricest[0][1], fields, class_to_spec, prices, mean_vol_3_years)\n",
    "most_shortest_profit = calc_overall_income(most_shortest[0][1],  fields, class_to_spec, prices, mean_vol_3_years)\n",
    "most_optimal_profit = calc_overall_income(best[1],  fields, class_to_spec, prices, mean_vol_3_years)\n",
    "\n",
    "df2 = pandas.DataFrame([most_optimal_profit, most_pricest_profit, most_shortest_profit],\n",
    "                       columns=['Потенциальная прибыль'],\n",
    "                       index=['Самый оптимальный', 'Который принесет самую большую прибыль', 'Оптимальный по кластеризации'])\n",
    "\n",
    "with pandas.ExcelWriter('output.xlsx') as writer:  \n",
    "    df1.to_excel(writer, sheet_name='Результаты')\n",
    "    df2.to_excel(writer, sheet_name='Прибыль')"
   ]
  },
  {
   "cell_type": "code",
   "execution_count": null,
   "metadata": {},
   "outputs": [],
   "source": []
  }
 ]
}